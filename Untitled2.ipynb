{
 "cells": [
  {
   "cell_type": "markdown",
   "id": "9506ae88",
   "metadata": {},
   "source": [
    "# 1. 1 . Try to extract data from index one to index 300 with a jump of 3\n",
    "\n",
    "\n",
    "\n",
    "solution"
   ]
  },
  {
   "cell_type": "code",
   "execution_count": 1,
   "id": "2d577cd1",
   "metadata": {},
   "outputs": [],
   "source": [
    "s = \"this is My First Python programming class and i am learNING python string and its function\""
   ]
  },
  {
   "cell_type": "code",
   "execution_count": 2,
   "id": "2a5f5675",
   "metadata": {},
   "outputs": [
    {
     "data": {
      "text/plain": [
       "'h   r tnrrmglsnimeNGyosi dtfco'"
      ]
     },
     "execution_count": 2,
     "metadata": {},
     "output_type": "execute_result"
    }
   ],
   "source": [
    "s[1:300:3]"
   ]
  },
  {
   "cell_type": "markdown",
   "id": "c1586cea",
   "metadata": {},
   "source": [
    "# 2. Try to reverse a string without using reverse function \n",
    "\n",
    "\n",
    "solution\n",
    "\n",
    "\n"
   ]
  },
  {
   "cell_type": "code",
   "execution_count": 3,
   "id": "07b993b1",
   "metadata": {},
   "outputs": [],
   "source": [
    "a = \"abhishek\""
   ]
  },
  {
   "cell_type": "code",
   "execution_count": 4,
   "id": "42d6d78f",
   "metadata": {},
   "outputs": [
    {
     "data": {
      "text/plain": [
       "'kehsihba'"
      ]
     },
     "execution_count": 4,
     "metadata": {},
     "output_type": "execute_result"
    }
   ],
   "source": [
    "a[::-1]"
   ]
  },
  {
   "cell_type": "markdown",
   "id": "4e673c43",
   "metadata": {},
   "source": [
    "# 3. Try to split a string after conversion of entire string in uppercase\n",
    "\n",
    "solution"
   ]
  },
  {
   "cell_type": "code",
   "execution_count": 5,
   "id": "7e00efcb",
   "metadata": {},
   "outputs": [],
   "source": [
    "b = \"this is my frist class of python\""
   ]
  },
  {
   "cell_type": "code",
   "execution_count": 7,
   "id": "859a2373",
   "metadata": {},
   "outputs": [
    {
     "data": {
      "text/plain": [
       "['this', 'is', 'my', 'frist', 'class', 'of', 'python']"
      ]
     },
     "execution_count": 7,
     "metadata": {},
     "output_type": "execute_result"
    }
   ],
   "source": [
    "b.split()"
   ]
  },
  {
   "cell_type": "markdown",
   "id": "fdb0d669",
   "metadata": {},
   "source": [
    "# 4. try to convert the whole string into lower case \n",
    "\n",
    "solution"
   ]
  },
  {
   "cell_type": "code",
   "execution_count": 9,
   "id": "9ea45409",
   "metadata": {},
   "outputs": [],
   "source": [
    "c = \"THIS IS MY FRIST CLASS OF PYTHON\""
   ]
  },
  {
   "cell_type": "code",
   "execution_count": 10,
   "id": "7cf142f8",
   "metadata": {},
   "outputs": [
    {
     "data": {
      "text/plain": [
       "'this is my frist class of python'"
      ]
     },
     "execution_count": 10,
     "metadata": {},
     "output_type": "execute_result"
    }
   ],
   "source": [
    "c.lower()"
   ]
  },
  {
   "cell_type": "markdown",
   "id": "93a3b3a4",
   "metadata": {},
   "source": [
    "# 5 . Try to capitalize the whole string \n",
    "\n",
    "solution\n"
   ]
  },
  {
   "cell_type": "code",
   "execution_count": 11,
   "id": "50c6a96c",
   "metadata": {},
   "outputs": [
    {
     "data": {
      "text/plain": [
       "'this is my frist class of python'"
      ]
     },
     "execution_count": 11,
     "metadata": {},
     "output_type": "execute_result"
    }
   ],
   "source": []
  },
  {
   "cell_type": "code",
   "execution_count": 12,
   "id": "f8dc1a4b",
   "metadata": {},
   "outputs": [
    {
     "data": {
      "text/plain": [
       "'This is my frist class of python'"
      ]
     },
     "execution_count": 12,
     "metadata": {},
     "output_type": "execute_result"
    }
   ],
   "source": [
    "b.capitalize()"
   ]
  },
  {
   "cell_type": "markdown",
   "id": "4f46572e",
   "metadata": {},
   "source": [
    "# 6 . Write a diference between isalnum() and isalpha()\n",
    "\n",
    "solution"
   ]
  },
  {
   "cell_type": "markdown",
   "id": "b6262795",
   "metadata": {},
   "source": [
    "isalnum = if the character are in alphabetical and numerical order \n",
    "isalpha = if charater are in alphabetical"
   ]
  },
  {
   "cell_type": "markdown",
   "id": "a4434640",
   "metadata": {},
   "source": [
    "# 7. Try to give an example of expand tab\n",
    "\n",
    "solution"
   ]
  },
  {
   "cell_type": "code",
   "execution_count": 15,
   "id": "47956b3d",
   "metadata": {},
   "outputs": [],
   "source": [
    "d = \"my\\t name\\t is\\t abhishek\\t\""
   ]
  },
  {
   "cell_type": "code",
   "execution_count": 16,
   "id": "9027f620",
   "metadata": {},
   "outputs": [
    {
     "data": {
      "text/plain": [
       "'my       name    is      abhishek       '"
      ]
     },
     "execution_count": 16,
     "metadata": {},
     "output_type": "execute_result"
    }
   ],
   "source": [
    "d.expandtabs()"
   ]
  },
  {
   "cell_type": "markdown",
   "id": "16536769",
   "metadata": {},
   "source": [
    "# 8 . Give an example of strip , lstrip and rstrip \n",
    "solution\n"
   ]
  },
  {
   "cell_type": "code",
   "execution_count": 17,
   "id": "4e177900",
   "metadata": {},
   "outputs": [],
   "source": [
    "e = \"   a b h i s h e k   \""
   ]
  },
  {
   "cell_type": "code",
   "execution_count": 18,
   "id": "b72b06ac",
   "metadata": {},
   "outputs": [
    {
     "data": {
      "text/plain": [
       "'a b h i s h e k'"
      ]
     },
     "execution_count": 18,
     "metadata": {},
     "output_type": "execute_result"
    }
   ],
   "source": [
    "e.strip()"
   ]
  },
  {
   "cell_type": "code",
   "execution_count": 19,
   "id": "a470ec95",
   "metadata": {},
   "outputs": [
    {
     "data": {
      "text/plain": [
       "'a b h i s h e k   '"
      ]
     },
     "execution_count": 19,
     "metadata": {},
     "output_type": "execute_result"
    }
   ],
   "source": [
    "e.lstrip()"
   ]
  },
  {
   "cell_type": "code",
   "execution_count": 20,
   "id": "5c5965ee",
   "metadata": {},
   "outputs": [
    {
     "data": {
      "text/plain": [
       "'   a b h i s h e k'"
      ]
     },
     "execution_count": 20,
     "metadata": {},
     "output_type": "execute_result"
    }
   ],
   "source": [
    "e.rstrip()"
   ]
  },
  {
   "cell_type": "markdown",
   "id": "4ec1fab1",
   "metadata": {},
   "source": [
    "# 9.  Replace a string charecter by another charector by taking your own example \n",
    "\n",
    "solution"
   ]
  },
  {
   "cell_type": "code",
   "execution_count": 21,
   "id": "bdab7ce7",
   "metadata": {},
   "outputs": [],
   "source": [
    "s = \"abhishek singh\""
   ]
  },
  {
   "cell_type": "code",
   "execution_count": 23,
   "id": "c6aa7930",
   "metadata": {},
   "outputs": [
    {
     "data": {
      "text/plain": [
       "'abhkshek skngh'"
      ]
     },
     "execution_count": 23,
     "metadata": {},
     "output_type": "execute_result"
    }
   ],
   "source": [
    "s.replace('i','k')"
   ]
  },
  {
   "cell_type": "markdown",
   "id": "b30dba1f",
   "metadata": {},
   "source": [
    "10 . Try  to give a defination of string center function with and exmple \n",
    "\n",
    "solution"
   ]
  },
  {
   "cell_type": "code",
   "execution_count": 24,
   "id": "d695cac9",
   "metadata": {},
   "outputs": [],
   "source": [
    "f = \"my name is abhishek\""
   ]
  },
  {
   "cell_type": "code",
   "execution_count": 25,
   "id": "b42966d6",
   "metadata": {},
   "outputs": [
    {
     "data": {
      "text/plain": [
       "'               my name is abhishek                '"
      ]
     },
     "execution_count": 25,
     "metadata": {},
     "output_type": "execute_result"
    }
   ],
   "source": [
    "f.center(50)"
   ]
  },
  {
   "cell_type": "code",
   "execution_count": 26,
   "id": "4853a357",
   "metadata": {},
   "outputs": [
    {
     "data": {
      "text/plain": [
       "'                         my name is abhishek                          '"
      ]
     },
     "execution_count": 26,
     "metadata": {},
     "output_type": "execute_result"
    }
   ],
   "source": [
    "f.center(70)"
   ]
  },
  {
   "cell_type": "markdown",
   "id": "57f19990",
   "metadata": {},
   "source": [
    "this methood is use for centre align the paragraph in proper lenght and width"
   ]
  },
  {
   "cell_type": "markdown",
   "id": "9d06d5c3",
   "metadata": {},
   "source": [
    "# 11 . Write your own definition of compiler and interpretor without copy paste form internet in your own language\n",
    "\n",
    "solution"
   ]
  },
  {
   "cell_type": "markdown",
   "id": "51d5a178",
   "metadata": {},
   "source": [
    "Compiler takes an entire program at a time and Interpreter takes a single line of code at a time. Compiler works fast and Interpreter works slower comparatively. Example: C, C++, uses a compiler. Example: PHP, Pearl, Python uses Interpreter."
   ]
  },
  {
   "cell_type": "markdown",
   "id": "88d92e8a",
   "metadata": {},
   "source": [
    "# 12 . Python is a interpreted of compiled language give a clear ans with your understanding \n",
    "solutiuon"
   ]
  },
  {
   "cell_type": "markdown",
   "id": "6faccb77",
   "metadata": {},
   "source": []
  },
  {
   "cell_type": "markdown",
   "id": "b80700bb",
   "metadata": {},
   "source": [
    "# 13 . Try to write a usecase of python with your understanding .\n",
    "solution\n"
   ]
  },
  {
   "cell_type": "markdown",
   "id": "0dc56a25",
   "metadata": {},
   "source": [
    "web development, game development ,data analyst"
   ]
  }
 ],
 "metadata": {
  "kernelspec": {
   "display_name": "Python 3 (ipykernel)",
   "language": "python",
   "name": "python3"
  },
  "language_info": {
   "codemirror_mode": {
    "name": "ipython",
    "version": 3
   },
   "file_extension": ".py",
   "mimetype": "text/x-python",
   "name": "python",
   "nbconvert_exporter": "python",
   "pygments_lexer": "ipython3",
   "version": "3.9.12"
  }
 },
 "nbformat": 4,
 "nbformat_minor": 5
}
